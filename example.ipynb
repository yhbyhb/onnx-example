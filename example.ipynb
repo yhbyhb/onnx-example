{
 "cells": [
  {
   "cell_type": "code",
   "execution_count": 23,
   "metadata": {},
   "outputs": [
    {
     "name": "stdout",
     "output_type": "stream",
     "text": [
      "['DmlExecutionProvider', 'CPUExecutionProvider']\n",
      "1.15.0\n"
     ]
    }
   ],
   "source": [
    "import cv2\n",
    "import onnxruntime as ort\n",
    "import numpy as np\n",
    "\n",
    "print(ort.get_available_providers())\n",
    "print(ort.__version__)"
   ]
  },
  {
   "cell_type": "code",
   "execution_count": 24,
   "metadata": {},
   "outputs": [
    {
     "name": "stdout",
     "output_type": "stream",
     "text": [
      "(1, 3, 480, 640)\n"
     ]
    }
   ],
   "source": [
    "img = cv2.imread(\"face_left_yellow.png\")\n",
    "input_data = cv2.cvtColor(img, cv2.COLOR_BGR2RGB)\n",
    "input_data = input_data / 255.0\n",
    "input_data = input_data.transpose(2, 0, 1)\n",
    "input_data = input_data[np.newaxis, ...].astype(np.float32)\n",
    "print(input_data.shape)"
   ]
  },
  {
   "cell_type": "code",
   "execution_count": 29,
   "metadata": {},
   "outputs": [
    {
     "name": "stdout",
     "output_type": "stream",
     "text": [
      "{'DmlExecutionProvider': {}, 'CPUExecutionProvider': {}}\n",
      "['DmlExecutionProvider', 'CPUExecutionProvider']\n",
      "<onnxruntime.capi.onnxruntime_pybind11_state.SessionOptions object at 0x0000021973F582F0>\n"
     ]
    }
   ],
   "source": [
    "sess = ort.InferenceSession('realesr-general-x4v3.onnx', providers=['DmlExecutionProvider'], provider_options=[{'device_id': 1}])\n",
    "input_name = sess.get_inputs()[0].name\n",
    "output_name = sess.get_outputs()[0].name\n",
    "print(sess.get_provider_options())\n",
    "print(sess.get_providers())\n",
    "print(sess.get_session_options())"
   ]
  },
  {
   "cell_type": "code",
   "execution_count": 34,
   "metadata": {},
   "outputs": [],
   "source": [
    "output = sess.run([output_name], {input_name: input_data})[0]\n"
   ]
  },
  {
   "cell_type": "code",
   "execution_count": 31,
   "metadata": {},
   "outputs": [
    {
     "name": "stdout",
     "output_type": "stream",
     "text": [
      "<class 'numpy.ndarray'>\n",
      "(1, 3, 1920, 2560)\n"
     ]
    }
   ],
   "source": [
    "print(type(output))\n",
    "print(output.shape)"
   ]
  },
  {
   "cell_type": "code",
   "execution_count": null,
   "metadata": {},
   "outputs": [],
   "source": []
  },
  {
   "cell_type": "code",
   "execution_count": null,
   "metadata": {},
   "outputs": [],
   "source": []
  }
 ],
 "metadata": {
  "kernelspec": {
   "display_name": ".venv",
   "language": "python",
   "name": "python3"
  },
  "language_info": {
   "codemirror_mode": {
    "name": "ipython",
    "version": 3
   },
   "file_extension": ".py",
   "mimetype": "text/x-python",
   "name": "python",
   "nbconvert_exporter": "python",
   "pygments_lexer": "ipython3",
   "version": "3.11.3"
  },
  "orig_nbformat": 4
 },
 "nbformat": 4,
 "nbformat_minor": 2
}
